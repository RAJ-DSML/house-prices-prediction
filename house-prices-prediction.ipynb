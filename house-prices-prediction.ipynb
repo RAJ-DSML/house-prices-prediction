{
 "cells": [
  {
   "cell_type": "code",
   "execution_count": 1,
   "id": "9a40ad27",
   "metadata": {
    "_cell_guid": "b1076dfc-b9ad-4769-8c92-a6c4dae69d19",
    "_uuid": "8f2839f25d086af736a60e9eeb907d3b93b6e0e5",
    "execution": {
     "iopub.execute_input": "2022-01-29T15:24:09.152117Z",
     "iopub.status.busy": "2022-01-29T15:24:09.151346Z",
     "iopub.status.idle": "2022-01-29T15:24:09.157558Z",
     "shell.execute_reply": "2022-01-29T15:24:09.158332Z",
     "shell.execute_reply.started": "2022-01-29T15:23:38.985389Z"
    },
    "papermill": {
     "duration": 0.052544,
     "end_time": "2022-01-29T15:24:09.158705",
     "exception": false,
     "start_time": "2022-01-29T15:24:09.106161",
     "status": "completed"
    },
    "tags": []
   },
   "outputs": [
    {
     "name": "stdout",
     "output_type": "stream",
     "text": [
      "/kaggle/input/house-prices-advanced-regression-techniques/sample_submission.csv\n",
      "/kaggle/input/house-prices-advanced-regression-techniques/data_description.txt\n",
      "/kaggle/input/house-prices-advanced-regression-techniques/train.csv\n",
      "/kaggle/input/house-prices-advanced-regression-techniques/test.csv\n"
     ]
    }
   ],
   "source": [
    "# This Python 3 environment comes with many helpful analytics libraries installed\n",
    "# It is defined by the kaggle/python Docker image: https://github.com/kaggle/docker-python\n",
    "# For example, here's several helpful packages to load\n",
    "\n",
    "import numpy as np # linear algebra\n",
    "import pandas as pd # data processing, CSV file I/O (e.g. pd.read_csv)\n",
    "import warnings\n",
    "warnings.filterwarnings('ignore')\n",
    "\n",
    "# Input data files are available in the read-only \"../input/\" directory\n",
    "# For example, running this (by clicking run or pressing Shift+Enter) will list all files under the input directory\n",
    "\n",
    "import os\n",
    "for dirname, _, filenames in os.walk('/kaggle/input'):\n",
    "    for filename in filenames:\n",
    "        print(os.path.join(dirname, filename))\n",
    "\n",
    "# You can write up to 20GB to the current directory (/kaggle/working/) that gets preserved as output when you create a version using \"Save & Run All\" \n",
    "# You can also write temporary files to /kaggle/temp/, but they won't be saved outside of the current session"
   ]
  },
  {
   "cell_type": "code",
   "execution_count": 2,
   "id": "b26ab50d",
   "metadata": {
    "execution": {
     "iopub.execute_input": "2022-01-29T15:24:09.225294Z",
     "iopub.status.busy": "2022-01-29T15:24:09.224636Z",
     "iopub.status.idle": "2022-01-29T15:24:09.294266Z",
     "shell.execute_reply": "2022-01-29T15:24:09.293730Z",
     "shell.execute_reply.started": "2022-01-29T15:23:39.007970Z"
    },
    "papermill": {
     "duration": 0.102937,
     "end_time": "2022-01-29T15:24:09.294400",
     "exception": false,
     "start_time": "2022-01-29T15:24:09.191463",
     "status": "completed"
    },
    "tags": []
   },
   "outputs": [
    {
     "data": {
      "text/html": [
       "<div>\n",
       "<style scoped>\n",
       "    .dataframe tbody tr th:only-of-type {\n",
       "        vertical-align: middle;\n",
       "    }\n",
       "\n",
       "    .dataframe tbody tr th {\n",
       "        vertical-align: top;\n",
       "    }\n",
       "\n",
       "    .dataframe thead th {\n",
       "        text-align: right;\n",
       "    }\n",
       "</style>\n",
       "<table border=\"1\" class=\"dataframe\">\n",
       "  <thead>\n",
       "    <tr style=\"text-align: right;\">\n",
       "      <th></th>\n",
       "      <th>Id</th>\n",
       "      <th>MSSubClass</th>\n",
       "      <th>MSZoning</th>\n",
       "      <th>LotFrontage</th>\n",
       "      <th>LotArea</th>\n",
       "      <th>Street</th>\n",
       "      <th>Alley</th>\n",
       "      <th>LotShape</th>\n",
       "      <th>LandContour</th>\n",
       "      <th>Utilities</th>\n",
       "      <th>...</th>\n",
       "      <th>PoolArea</th>\n",
       "      <th>PoolQC</th>\n",
       "      <th>Fence</th>\n",
       "      <th>MiscFeature</th>\n",
       "      <th>MiscVal</th>\n",
       "      <th>MoSold</th>\n",
       "      <th>YrSold</th>\n",
       "      <th>SaleType</th>\n",
       "      <th>SaleCondition</th>\n",
       "      <th>SalePrice</th>\n",
       "    </tr>\n",
       "  </thead>\n",
       "  <tbody>\n",
       "    <tr>\n",
       "      <th>0</th>\n",
       "      <td>1</td>\n",
       "      <td>60</td>\n",
       "      <td>RL</td>\n",
       "      <td>65.0</td>\n",
       "      <td>8450</td>\n",
       "      <td>Pave</td>\n",
       "      <td>NaN</td>\n",
       "      <td>Reg</td>\n",
       "      <td>Lvl</td>\n",
       "      <td>AllPub</td>\n",
       "      <td>...</td>\n",
       "      <td>0</td>\n",
       "      <td>NaN</td>\n",
       "      <td>NaN</td>\n",
       "      <td>NaN</td>\n",
       "      <td>0</td>\n",
       "      <td>2</td>\n",
       "      <td>2008</td>\n",
       "      <td>WD</td>\n",
       "      <td>Normal</td>\n",
       "      <td>208500</td>\n",
       "    </tr>\n",
       "    <tr>\n",
       "      <th>1</th>\n",
       "      <td>2</td>\n",
       "      <td>20</td>\n",
       "      <td>RL</td>\n",
       "      <td>80.0</td>\n",
       "      <td>9600</td>\n",
       "      <td>Pave</td>\n",
       "      <td>NaN</td>\n",
       "      <td>Reg</td>\n",
       "      <td>Lvl</td>\n",
       "      <td>AllPub</td>\n",
       "      <td>...</td>\n",
       "      <td>0</td>\n",
       "      <td>NaN</td>\n",
       "      <td>NaN</td>\n",
       "      <td>NaN</td>\n",
       "      <td>0</td>\n",
       "      <td>5</td>\n",
       "      <td>2007</td>\n",
       "      <td>WD</td>\n",
       "      <td>Normal</td>\n",
       "      <td>181500</td>\n",
       "    </tr>\n",
       "    <tr>\n",
       "      <th>2</th>\n",
       "      <td>3</td>\n",
       "      <td>60</td>\n",
       "      <td>RL</td>\n",
       "      <td>68.0</td>\n",
       "      <td>11250</td>\n",
       "      <td>Pave</td>\n",
       "      <td>NaN</td>\n",
       "      <td>IR1</td>\n",
       "      <td>Lvl</td>\n",
       "      <td>AllPub</td>\n",
       "      <td>...</td>\n",
       "      <td>0</td>\n",
       "      <td>NaN</td>\n",
       "      <td>NaN</td>\n",
       "      <td>NaN</td>\n",
       "      <td>0</td>\n",
       "      <td>9</td>\n",
       "      <td>2008</td>\n",
       "      <td>WD</td>\n",
       "      <td>Normal</td>\n",
       "      <td>223500</td>\n",
       "    </tr>\n",
       "    <tr>\n",
       "      <th>3</th>\n",
       "      <td>4</td>\n",
       "      <td>70</td>\n",
       "      <td>RL</td>\n",
       "      <td>60.0</td>\n",
       "      <td>9550</td>\n",
       "      <td>Pave</td>\n",
       "      <td>NaN</td>\n",
       "      <td>IR1</td>\n",
       "      <td>Lvl</td>\n",
       "      <td>AllPub</td>\n",
       "      <td>...</td>\n",
       "      <td>0</td>\n",
       "      <td>NaN</td>\n",
       "      <td>NaN</td>\n",
       "      <td>NaN</td>\n",
       "      <td>0</td>\n",
       "      <td>2</td>\n",
       "      <td>2006</td>\n",
       "      <td>WD</td>\n",
       "      <td>Abnorml</td>\n",
       "      <td>140000</td>\n",
       "    </tr>\n",
       "    <tr>\n",
       "      <th>4</th>\n",
       "      <td>5</td>\n",
       "      <td>60</td>\n",
       "      <td>RL</td>\n",
       "      <td>84.0</td>\n",
       "      <td>14260</td>\n",
       "      <td>Pave</td>\n",
       "      <td>NaN</td>\n",
       "      <td>IR1</td>\n",
       "      <td>Lvl</td>\n",
       "      <td>AllPub</td>\n",
       "      <td>...</td>\n",
       "      <td>0</td>\n",
       "      <td>NaN</td>\n",
       "      <td>NaN</td>\n",
       "      <td>NaN</td>\n",
       "      <td>0</td>\n",
       "      <td>12</td>\n",
       "      <td>2008</td>\n",
       "      <td>WD</td>\n",
       "      <td>Normal</td>\n",
       "      <td>250000</td>\n",
       "    </tr>\n",
       "  </tbody>\n",
       "</table>\n",
       "<p>5 rows × 81 columns</p>\n",
       "</div>"
      ],
      "text/plain": [
       "   Id  MSSubClass MSZoning  LotFrontage  LotArea Street Alley LotShape  \\\n",
       "0   1          60       RL         65.0     8450   Pave   NaN      Reg   \n",
       "1   2          20       RL         80.0     9600   Pave   NaN      Reg   \n",
       "2   3          60       RL         68.0    11250   Pave   NaN      IR1   \n",
       "3   4          70       RL         60.0     9550   Pave   NaN      IR1   \n",
       "4   5          60       RL         84.0    14260   Pave   NaN      IR1   \n",
       "\n",
       "  LandContour Utilities  ... PoolArea PoolQC Fence MiscFeature MiscVal MoSold  \\\n",
       "0         Lvl    AllPub  ...        0    NaN   NaN         NaN       0      2   \n",
       "1         Lvl    AllPub  ...        0    NaN   NaN         NaN       0      5   \n",
       "2         Lvl    AllPub  ...        0    NaN   NaN         NaN       0      9   \n",
       "3         Lvl    AllPub  ...        0    NaN   NaN         NaN       0      2   \n",
       "4         Lvl    AllPub  ...        0    NaN   NaN         NaN       0     12   \n",
       "\n",
       "  YrSold  SaleType  SaleCondition  SalePrice  \n",
       "0   2008        WD         Normal     208500  \n",
       "1   2007        WD         Normal     181500  \n",
       "2   2008        WD         Normal     223500  \n",
       "3   2006        WD        Abnorml     140000  \n",
       "4   2008        WD         Normal     250000  \n",
       "\n",
       "[5 rows x 81 columns]"
      ]
     },
     "execution_count": 2,
     "metadata": {},
     "output_type": "execute_result"
    }
   ],
   "source": [
    "df_train = pd.read_csv(\"../input/house-prices-advanced-regression-techniques/train.csv\")\n",
    "df_train.head()"
   ]
  },
  {
   "cell_type": "code",
   "execution_count": 3,
   "id": "9c1174ae",
   "metadata": {
    "execution": {
     "iopub.execute_input": "2022-01-29T15:24:09.362725Z",
     "iopub.status.busy": "2022-01-29T15:24:09.361704Z",
     "iopub.status.idle": "2022-01-29T15:24:09.411241Z",
     "shell.execute_reply": "2022-01-29T15:24:09.410622Z",
     "shell.execute_reply.started": "2022-01-29T15:23:39.073826Z"
    },
    "papermill": {
     "duration": 0.085652,
     "end_time": "2022-01-29T15:24:09.411377",
     "exception": false,
     "start_time": "2022-01-29T15:24:09.325725",
     "status": "completed"
    },
    "tags": []
   },
   "outputs": [
    {
     "data": {
      "text/html": [
       "<div>\n",
       "<style scoped>\n",
       "    .dataframe tbody tr th:only-of-type {\n",
       "        vertical-align: middle;\n",
       "    }\n",
       "\n",
       "    .dataframe tbody tr th {\n",
       "        vertical-align: top;\n",
       "    }\n",
       "\n",
       "    .dataframe thead th {\n",
       "        text-align: right;\n",
       "    }\n",
       "</style>\n",
       "<table border=\"1\" class=\"dataframe\">\n",
       "  <thead>\n",
       "    <tr style=\"text-align: right;\">\n",
       "      <th></th>\n",
       "      <th>Id</th>\n",
       "      <th>MSSubClass</th>\n",
       "      <th>MSZoning</th>\n",
       "      <th>LotFrontage</th>\n",
       "      <th>LotArea</th>\n",
       "      <th>Street</th>\n",
       "      <th>Alley</th>\n",
       "      <th>LotShape</th>\n",
       "      <th>LandContour</th>\n",
       "      <th>Utilities</th>\n",
       "      <th>...</th>\n",
       "      <th>ScreenPorch</th>\n",
       "      <th>PoolArea</th>\n",
       "      <th>PoolQC</th>\n",
       "      <th>Fence</th>\n",
       "      <th>MiscFeature</th>\n",
       "      <th>MiscVal</th>\n",
       "      <th>MoSold</th>\n",
       "      <th>YrSold</th>\n",
       "      <th>SaleType</th>\n",
       "      <th>SaleCondition</th>\n",
       "    </tr>\n",
       "  </thead>\n",
       "  <tbody>\n",
       "    <tr>\n",
       "      <th>0</th>\n",
       "      <td>1461</td>\n",
       "      <td>20</td>\n",
       "      <td>RH</td>\n",
       "      <td>80.0</td>\n",
       "      <td>11622</td>\n",
       "      <td>Pave</td>\n",
       "      <td>NaN</td>\n",
       "      <td>Reg</td>\n",
       "      <td>Lvl</td>\n",
       "      <td>AllPub</td>\n",
       "      <td>...</td>\n",
       "      <td>120</td>\n",
       "      <td>0</td>\n",
       "      <td>NaN</td>\n",
       "      <td>MnPrv</td>\n",
       "      <td>NaN</td>\n",
       "      <td>0</td>\n",
       "      <td>6</td>\n",
       "      <td>2010</td>\n",
       "      <td>WD</td>\n",
       "      <td>Normal</td>\n",
       "    </tr>\n",
       "    <tr>\n",
       "      <th>1</th>\n",
       "      <td>1462</td>\n",
       "      <td>20</td>\n",
       "      <td>RL</td>\n",
       "      <td>81.0</td>\n",
       "      <td>14267</td>\n",
       "      <td>Pave</td>\n",
       "      <td>NaN</td>\n",
       "      <td>IR1</td>\n",
       "      <td>Lvl</td>\n",
       "      <td>AllPub</td>\n",
       "      <td>...</td>\n",
       "      <td>0</td>\n",
       "      <td>0</td>\n",
       "      <td>NaN</td>\n",
       "      <td>NaN</td>\n",
       "      <td>Gar2</td>\n",
       "      <td>12500</td>\n",
       "      <td>6</td>\n",
       "      <td>2010</td>\n",
       "      <td>WD</td>\n",
       "      <td>Normal</td>\n",
       "    </tr>\n",
       "    <tr>\n",
       "      <th>2</th>\n",
       "      <td>1463</td>\n",
       "      <td>60</td>\n",
       "      <td>RL</td>\n",
       "      <td>74.0</td>\n",
       "      <td>13830</td>\n",
       "      <td>Pave</td>\n",
       "      <td>NaN</td>\n",
       "      <td>IR1</td>\n",
       "      <td>Lvl</td>\n",
       "      <td>AllPub</td>\n",
       "      <td>...</td>\n",
       "      <td>0</td>\n",
       "      <td>0</td>\n",
       "      <td>NaN</td>\n",
       "      <td>MnPrv</td>\n",
       "      <td>NaN</td>\n",
       "      <td>0</td>\n",
       "      <td>3</td>\n",
       "      <td>2010</td>\n",
       "      <td>WD</td>\n",
       "      <td>Normal</td>\n",
       "    </tr>\n",
       "    <tr>\n",
       "      <th>3</th>\n",
       "      <td>1464</td>\n",
       "      <td>60</td>\n",
       "      <td>RL</td>\n",
       "      <td>78.0</td>\n",
       "      <td>9978</td>\n",
       "      <td>Pave</td>\n",
       "      <td>NaN</td>\n",
       "      <td>IR1</td>\n",
       "      <td>Lvl</td>\n",
       "      <td>AllPub</td>\n",
       "      <td>...</td>\n",
       "      <td>0</td>\n",
       "      <td>0</td>\n",
       "      <td>NaN</td>\n",
       "      <td>NaN</td>\n",
       "      <td>NaN</td>\n",
       "      <td>0</td>\n",
       "      <td>6</td>\n",
       "      <td>2010</td>\n",
       "      <td>WD</td>\n",
       "      <td>Normal</td>\n",
       "    </tr>\n",
       "    <tr>\n",
       "      <th>4</th>\n",
       "      <td>1465</td>\n",
       "      <td>120</td>\n",
       "      <td>RL</td>\n",
       "      <td>43.0</td>\n",
       "      <td>5005</td>\n",
       "      <td>Pave</td>\n",
       "      <td>NaN</td>\n",
       "      <td>IR1</td>\n",
       "      <td>HLS</td>\n",
       "      <td>AllPub</td>\n",
       "      <td>...</td>\n",
       "      <td>144</td>\n",
       "      <td>0</td>\n",
       "      <td>NaN</td>\n",
       "      <td>NaN</td>\n",
       "      <td>NaN</td>\n",
       "      <td>0</td>\n",
       "      <td>1</td>\n",
       "      <td>2010</td>\n",
       "      <td>WD</td>\n",
       "      <td>Normal</td>\n",
       "    </tr>\n",
       "  </tbody>\n",
       "</table>\n",
       "<p>5 rows × 80 columns</p>\n",
       "</div>"
      ],
      "text/plain": [
       "     Id  MSSubClass MSZoning  LotFrontage  LotArea Street Alley LotShape  \\\n",
       "0  1461          20       RH         80.0    11622   Pave   NaN      Reg   \n",
       "1  1462          20       RL         81.0    14267   Pave   NaN      IR1   \n",
       "2  1463          60       RL         74.0    13830   Pave   NaN      IR1   \n",
       "3  1464          60       RL         78.0     9978   Pave   NaN      IR1   \n",
       "4  1465         120       RL         43.0     5005   Pave   NaN      IR1   \n",
       "\n",
       "  LandContour Utilities  ... ScreenPorch PoolArea PoolQC  Fence MiscFeature  \\\n",
       "0         Lvl    AllPub  ...         120        0    NaN  MnPrv         NaN   \n",
       "1         Lvl    AllPub  ...           0        0    NaN    NaN        Gar2   \n",
       "2         Lvl    AllPub  ...           0        0    NaN  MnPrv         NaN   \n",
       "3         Lvl    AllPub  ...           0        0    NaN    NaN         NaN   \n",
       "4         HLS    AllPub  ...         144        0    NaN    NaN         NaN   \n",
       "\n",
       "  MiscVal MoSold  YrSold  SaleType  SaleCondition  \n",
       "0       0      6    2010        WD         Normal  \n",
       "1   12500      6    2010        WD         Normal  \n",
       "2       0      3    2010        WD         Normal  \n",
       "3       0      6    2010        WD         Normal  \n",
       "4       0      1    2010        WD         Normal  \n",
       "\n",
       "[5 rows x 80 columns]"
      ]
     },
     "execution_count": 3,
     "metadata": {},
     "output_type": "execute_result"
    }
   ],
   "source": [
    "df_test = pd.read_csv(\"../input/house-prices-advanced-regression-techniques/test.csv\")\n",
    "df_test.head()"
   ]
  },
  {
   "cell_type": "code",
   "execution_count": 4,
   "id": "c987caf5",
   "metadata": {
    "execution": {
     "iopub.execute_input": "2022-01-29T15:24:09.481371Z",
     "iopub.status.busy": "2022-01-29T15:24:09.480747Z",
     "iopub.status.idle": "2022-01-29T15:24:09.484803Z",
     "shell.execute_reply": "2022-01-29T15:24:09.484293Z",
     "shell.execute_reply.started": "2022-01-29T15:23:39.122726Z"
    },
    "papermill": {
     "duration": 0.04111,
     "end_time": "2022-01-29T15:24:09.484930",
     "exception": false,
     "start_time": "2022-01-29T15:24:09.443820",
     "status": "completed"
    },
    "tags": []
   },
   "outputs": [
    {
     "data": {
      "text/plain": [
       "(1460, 81)"
      ]
     },
     "execution_count": 4,
     "metadata": {},
     "output_type": "execute_result"
    }
   ],
   "source": [
    "df_train.shape"
   ]
  },
  {
   "cell_type": "code",
   "execution_count": 5,
   "id": "4eceb5d3",
   "metadata": {
    "execution": {
     "iopub.execute_input": "2022-01-29T15:24:09.554253Z",
     "iopub.status.busy": "2022-01-29T15:24:09.553593Z",
     "iopub.status.idle": "2022-01-29T15:24:09.557281Z",
     "shell.execute_reply": "2022-01-29T15:24:09.557720Z",
     "shell.execute_reply.started": "2022-01-29T15:23:39.131050Z"
    },
    "papermill": {
     "duration": 0.04053,
     "end_time": "2022-01-29T15:24:09.557876",
     "exception": false,
     "start_time": "2022-01-29T15:24:09.517346",
     "status": "completed"
    },
    "tags": []
   },
   "outputs": [
    {
     "data": {
      "text/plain": [
       "(1459, 80)"
      ]
     },
     "execution_count": 5,
     "metadata": {},
     "output_type": "execute_result"
    }
   ],
   "source": [
    "df_test.shape"
   ]
  },
  {
   "cell_type": "code",
   "execution_count": 6,
   "id": "77640a6a",
   "metadata": {
    "execution": {
     "iopub.execute_input": "2022-01-29T15:24:09.635372Z",
     "iopub.status.busy": "2022-01-29T15:24:09.634701Z",
     "iopub.status.idle": "2022-01-29T15:24:09.640014Z",
     "shell.execute_reply": "2022-01-29T15:24:09.640517Z",
     "shell.execute_reply.started": "2022-01-29T15:23:39.140850Z"
    },
    "papermill": {
     "duration": 0.048324,
     "end_time": "2022-01-29T15:24:09.640686",
     "exception": false,
     "start_time": "2022-01-29T15:24:09.592362",
     "status": "completed"
    },
    "tags": []
   },
   "outputs": [
    {
     "data": {
      "text/plain": [
       "(1460, 80)"
      ]
     },
     "execution_count": 6,
     "metadata": {},
     "output_type": "execute_result"
    }
   ],
   "source": [
    "# drop the 'Id' column\n",
    "train_ID = df_train['Id']\n",
    "df_train.drop(labels=\"Id\", axis=1, inplace=True)\n",
    "df_train.shape"
   ]
  },
  {
   "cell_type": "code",
   "execution_count": 7,
   "id": "a5cbecfe",
   "metadata": {
    "execution": {
     "iopub.execute_input": "2022-01-29T15:24:09.712177Z",
     "iopub.status.busy": "2022-01-29T15:24:09.711555Z",
     "iopub.status.idle": "2022-01-29T15:24:09.717235Z",
     "shell.execute_reply": "2022-01-29T15:24:09.716710Z",
     "shell.execute_reply.started": "2022-01-29T15:23:39.155838Z"
    },
    "papermill": {
     "duration": 0.043625,
     "end_time": "2022-01-29T15:24:09.717369",
     "exception": false,
     "start_time": "2022-01-29T15:24:09.673744",
     "status": "completed"
    },
    "tags": []
   },
   "outputs": [
    {
     "data": {
      "text/plain": [
       "(1459, 79)"
      ]
     },
     "execution_count": 7,
     "metadata": {},
     "output_type": "execute_result"
    }
   ],
   "source": [
    "test_ID = df_test[\"Id\"]\n",
    "df_test.drop(labels=\"Id\", axis=1, inplace=True)\n",
    "df_test.shape"
   ]
  },
  {
   "cell_type": "markdown",
   "id": "56544031",
   "metadata": {
    "papermill": {
     "duration": 0.032746,
     "end_time": "2022-01-29T15:24:09.783150",
     "exception": false,
     "start_time": "2022-01-29T15:24:09.750404",
     "status": "completed"
    },
    "tags": []
   },
   "source": [
    "### Analysis on Target Variable"
   ]
  },
  {
   "cell_type": "code",
   "execution_count": 8,
   "id": "ccb8bc79",
   "metadata": {
    "execution": {
     "iopub.execute_input": "2022-01-29T15:24:09.856031Z",
     "iopub.status.busy": "2022-01-29T15:24:09.855417Z",
     "iopub.status.idle": "2022-01-29T15:24:10.929321Z",
     "shell.execute_reply": "2022-01-29T15:24:10.928654Z",
     "shell.execute_reply.started": "2022-01-29T15:23:39.168167Z"
    },
    "papermill": {
     "duration": 1.112678,
     "end_time": "2022-01-29T15:24:10.929483",
     "exception": false,
     "start_time": "2022-01-29T15:24:09.816805",
     "status": "completed"
    },
    "tags": []
   },
   "outputs": [],
   "source": [
    "import seaborn as sns\n",
    "import matplotlib.pyplot as plt\n",
    "from scipy import stats\n",
    "from scipy.stats import norm, skew"
   ]
  },
  {
   "cell_type": "code",
   "execution_count": 9,
   "id": "7ca94300",
   "metadata": {
    "execution": {
     "iopub.execute_input": "2022-01-29T15:24:11.009826Z",
     "iopub.status.busy": "2022-01-29T15:24:11.004787Z",
     "iopub.status.idle": "2022-01-29T15:24:11.633551Z",
     "shell.execute_reply": "2022-01-29T15:24:11.632965Z",
     "shell.execute_reply.started": "2022-01-29T15:23:39.704633Z"
    },
    "papermill": {
     "duration": 0.669226,
     "end_time": "2022-01-29T15:24:11.633695",
     "exception": false,
     "start_time": "2022-01-29T15:24:10.964469",
     "status": "completed"
    },
    "tags": []
   },
   "outputs": [
    {
     "data": {
      "text/plain": [
       "Text(0.5, 1.0, 'Sales Price Distribution')"
      ]
     },
     "execution_count": 9,
     "metadata": {},
     "output_type": "execute_result"
    },
    {
     "data": {
      "image/png": "[encoded data removed]",
      "text/plain": [
       "<Figure size 720x432 with 1 Axes>"
      ]
     },
     "metadata": {
      "needs_background": "light"
     },
     "output_type": "display_data"
    }
   ],
   "source": [
    "plt.figure(figsize=(10,6))\n",
    "sns.distplot(df_train[\"SalePrice\"], fit=norm)\n",
    "\n",
    "(mu, sigma) = norm.fit(df_train['SalePrice'])\n",
    "plt.legend(['Normal Distribution ($\\mu=$ {:.2f} and $\\sigma=$ {:.2f})'.format(mu, sigma)],loc='best')\n",
    "plt.ylabel('Frequency')\n",
    "plt.title('Sales Price Distribution')"
   ]
  },
  {
   "cell_type": "code",
   "execution_count": 10,
   "id": "358dccea",
   "metadata": {
    "execution": {
     "iopub.execute_input": "2022-01-29T15:24:11.709284Z",
     "iopub.status.busy": "2022-01-29T15:24:11.708592Z",
     "iopub.status.idle": "2022-01-29T15:24:11.847665Z",
     "shell.execute_reply": "2022-01-29T15:24:11.848729Z",
     "shell.execute_reply.started": "2022-01-29T15:23:40.332811Z"
    },
    "papermill": {
     "duration": 0.178673,
     "end_time": "2022-01-29T15:24:11.849029",
     "exception": false,
     "start_time": "2022-01-29T15:24:11.670356",
     "status": "completed"
    },
    "tags": []
   },
   "outputs": [
    {
     "data": {
      "image/png": "[encoded data removed]",
      "text/plain": [
       "<Figure size 432x288 with 1 Axes>"
      ]
     },
     "metadata": {
      "needs_background": "light"
     },
     "output_type": "display_data"
    }
   ],
   "source": [
    "fig = plt.figure()\n",
    "residual = stats.probplot(df_train[\"SalePrice\"], plot=plt)\n",
    "plt.show()"
   ]
  },
  {
   "cell_type": "markdown",
   "id": "2fbfde4c",
   "metadata": {
    "papermill": {
     "duration": 0.035956,
     "end_time": "2022-01-29T15:24:11.923225",
     "exception": false,
     "start_time": "2022-01-29T15:24:11.887269",
     "status": "completed"
    },
    "tags": []
   },
   "source": [
    "**Interpretation:** It is clear that our target variable is right skewed, so we need to Log transform this variable to make it Normal Distribution."
   ]
  },
  {
   "cell_type": "markdown",
   "id": "fe81f140",
   "metadata": {
    "papermill": {
     "duration": 0.036509,
     "end_time": "2022-01-29T15:24:11.995568",
     "exception": false,
     "start_time": "2022-01-29T15:24:11.959059",
     "status": "completed"
    },
    "tags": []
   },
   "source": [
    "### Log Transformation"
   ]
  },
  {
   "cell_type": "code",
   "execution_count": 11,
   "id": "70c4885d",
   "metadata": {
    "execution": {
     "iopub.execute_input": "2022-01-29T15:24:12.071332Z",
     "iopub.status.busy": "2022-01-29T15:24:12.070700Z",
     "iopub.status.idle": "2022-01-29T15:24:12.452838Z",
     "shell.execute_reply": "2022-01-29T15:24:12.453713Z",
     "shell.execute_reply.started": "2022-01-29T15:23:40.522297Z"
    },
    "papermill": {
     "duration": 0.421709,
     "end_time": "2022-01-29T15:24:12.453924",
     "exception": false,
     "start_time": "2022-01-29T15:24:12.032215",
     "status": "completed"
    },
    "tags": []
   },
   "outputs": [
    {
     "data": {
      "text/plain": [
       "Text(0.5, 1.0, 'Sales Price Distribution')"
      ]
     },
     "execution_count": 11,
     "metadata": {},
     "output_type": "execute_result"
    },
    {
     "data": {
      "image/png": "[encoded data removed]",
      "text/plain": [
       "<Figure size 720x504 with 1 Axes>"
      ]
     },
     "metadata": {
      "needs_background": "light"
     },
     "output_type": "display_data"
    }
   ],
   "source": [
    "df_train[\"SalePrice\"] = np.log1p(df_train[\"SalePrice\"])\n",
    "\n",
    "plt.figure(figsize=(10,7))\n",
    "sns.distplot(df_train[\"SalePrice\"], fit=norm)\n",
    "\n",
    "(mu, sigma) = norm.fit(df_train['SalePrice'])\n",
    "plt.legend(['Normal Distribution ($\\mu=$ {:.2f} and $\\sigma=$ {:.2f})'.format(mu, sigma)],loc='best')\n",
    "plt.ylabel('Frequency')\n",
    "plt.title('Sales Price Distribution')"
   ]
  },
  {
   "cell_type": "code",
   "execution_count": 12,
   "id": "fc4e243a",
   "metadata": {
    "execution": {
     "iopub.execute_input": "2022-01-29T15:24:12.533245Z",
     "iopub.status.busy": "2022-01-29T15:24:12.532280Z",
     "iopub.status.idle": "2022-01-29T15:24:12.724167Z",
     "shell.execute_reply": "2022-01-29T15:24:12.724765Z",
     "shell.execute_reply.started": "2022-01-29T15:23:40.921070Z"
    },
    "papermill": {
     "duration": 0.232787,
     "end_time": "2022-01-29T15:24:12.724960",
     "exception": false,
     "start_time": "2022-01-29T15:24:12.492173",
     "status": "completed"
    },
    "tags": []
   },
   "outputs": [
    {
     "data": {
      "image/png": "[encoded data removed]",
      "text/plain": [
       "<Figure size 432x288 with 1 Axes>"
      ]
     },
     "metadata": {
      "needs_background": "light"
     },
     "output_type": "display_data"
    }
   ],
   "source": [
    "# QQ Plot\n",
    "fig = plt.figure()\n",
    "residual = stats.probplot(df_train[\"SalePrice\"], plot=plt)\n",
    "plt.show()"
   ]
  },
  {
   "cell_type": "markdown",
   "id": "58d3d11f",
   "metadata": {
    "papermill": {
     "duration": 0.038527,
     "end_time": "2022-01-29T15:24:12.802884",
     "exception": false,
     "start_time": "2022-01-29T15:24:12.764357",
     "status": "completed"
    },
    "tags": []
   },
   "source": [
    "**Interpretation:** Now the data is Normally Distributed after Log Transformation."
   ]
  },
  {
   "cell_type": "code",
   "execution_count": 13,
   "id": "7b36645e",
   "metadata": {
    "execution": {
     "iopub.execute_input": "2022-01-29T15:24:12.884980Z",
     "iopub.status.busy": "2022-01-29T15:24:12.883998Z",
     "iopub.status.idle": "2022-01-29T15:24:12.889901Z",
     "shell.execute_reply": "2022-01-29T15:24:12.890419Z",
     "shell.execute_reply.started": "2022-01-29T15:23:41.122920Z"
    },
    "papermill": {
     "duration": 0.048615,
     "end_time": "2022-01-29T15:24:12.890580",
     "exception": false,
     "start_time": "2022-01-29T15:24:12.841965",
     "status": "completed"
    },
    "tags": []
   },
   "outputs": [
    {
     "data": {
      "text/plain": [
       "array([12.24769912, 12.10901644, 12.31717117, ..., 12.49313327,\n",
       "       11.86446927, 11.90159023])"
      ]
     },
     "execution_count": 13,
     "metadata": {},
     "output_type": "execute_result"
    }
   ],
   "source": [
    "# define our target variable as y\n",
    "y = df_train[\"SalePrice\"].values\n",
    "y"
   ]
  },
  {
   "cell_type": "code",
   "execution_count": 14,
   "id": "2902e8f5",
   "metadata": {
    "execution": {
     "iopub.execute_input": "2022-01-29T15:24:12.972635Z",
     "iopub.status.busy": "2022-01-29T15:24:12.971676Z",
     "iopub.status.idle": "2022-01-29T15:24:13.000339Z",
     "shell.execute_reply": "2022-01-29T15:24:13.000816Z",
     "shell.execute_reply.started": "2022-01-29T15:23:41.133912Z"
    },
    "papermill": {
     "duration": 0.071325,
     "end_time": "2022-01-29T15:24:13.000979",
     "exception": false,
     "start_time": "2022-01-29T15:24:12.929654",
     "status": "completed"
    },
    "tags": []
   },
   "outputs": [
    {
     "name": "stdout",
     "output_type": "stream",
     "text": [
      "(2919, 79)\n"
     ]
    }
   ],
   "source": [
    "#concatenate the train and test data\n",
    "df_train_test = pd.concat((df_train, df_test)).reset_index(drop=True)\n",
    "df_train_test.drop([\"SalePrice\"], axis=1, inplace=True)\n",
    "print(df_train_test.shape)"
   ]
  },
  {
   "cell_type": "code",
   "execution_count": 15,
   "id": "28ba5305",
   "metadata": {
    "execution": {
     "iopub.execute_input": "2022-01-29T15:24:13.096932Z",
     "iopub.status.busy": "2022-01-29T15:24:13.096249Z",
     "iopub.status.idle": "2022-01-29T15:24:13.103463Z",
     "shell.execute_reply": "2022-01-29T15:24:13.103986Z",
     "shell.execute_reply.started": "2022-01-29T15:23:41.171257Z"
    },
    "papermill": {
     "duration": 0.063875,
     "end_time": "2022-01-29T15:24:13.104164",
     "exception": false,
     "start_time": "2022-01-29T15:24:13.040289",
     "status": "completed"
    },
    "tags": []
   },
   "outputs": [
    {
     "data": {
      "text/plain": [
       "MSSubClass         0\n",
       "MSZoning           4\n",
       "LotFrontage      486\n",
       "LotArea            0\n",
       "Street             0\n",
       "                ... \n",
       "MiscVal            0\n",
       "MoSold             0\n",
       "YrSold             0\n",
       "SaleType           1\n",
       "SaleCondition      0\n",
       "Length: 79, dtype: int64"
      ]
     },
     "execution_count": 15,
     "metadata": {},
     "output_type": "execute_result"
    }
   ],
   "source": [
    "#find out the missing data\n",
    "df_train_test.isnull().sum()"
   ]
  },
  {
   "cell_type": "code",
   "execution_count": 16,
   "id": "e0d82f37",
   "metadata": {
    "execution": {
     "iopub.execute_input": "2022-01-29T15:24:13.186867Z",
     "iopub.status.busy": "2022-01-29T15:24:13.186265Z",
     "iopub.status.idle": "2022-01-29T15:24:13.210419Z",
     "shell.execute_reply": "2022-01-29T15:24:13.210970Z",
     "shell.execute_reply.started": "2022-01-29T15:23:41.195327Z"
    },
    "papermill": {
     "duration": 0.067017,
     "end_time": "2022-01-29T15:24:13.211136",
     "exception": false,
     "start_time": "2022-01-29T15:24:13.144119",
     "status": "completed"
    },
    "tags": []
   },
   "outputs": [
    {
     "data": {
      "text/plain": [
       "PoolQC          99.657417\n",
       "MiscFeature     96.402878\n",
       "Alley           93.216855\n",
       "Fence           80.438506\n",
       "FireplaceQu     48.646797\n",
       "LotFrontage     16.649538\n",
       "GarageFinish     5.447071\n",
       "GarageQual       5.447071\n",
       "GarageCond       5.447071\n",
       "GarageYrBlt      5.447071\n",
       "GarageType       5.378554\n",
       "BsmtExposure     2.809181\n",
       "BsmtCond         2.809181\n",
       "BsmtQual         2.774923\n",
       "BsmtFinType2     2.740665\n",
       "BsmtFinType1     2.706406\n",
       "MasVnrType       0.822199\n",
       "MasVnrArea       0.787941\n",
       "MSZoning         0.137033\n",
       "BsmtFullBath     0.068517\n",
       "BsmtHalfBath     0.068517\n",
       "Functional       0.068517\n",
       "Utilities        0.068517\n",
       "GarageArea       0.034258\n",
       "GarageCars       0.034258\n",
       "Electrical       0.034258\n",
       "KitchenQual      0.034258\n",
       "TotalBsmtSF      0.034258\n",
       "BsmtUnfSF        0.034258\n",
       "BsmtFinSF2       0.034258\n",
       "dtype: float64"
      ]
     },
     "execution_count": 16,
     "metadata": {},
     "output_type": "execute_result"
    }
   ],
   "source": [
    "#print missing data ratio sorted manner\n",
    "missing_data_ratio = ((df_train_test.isnull().sum())/len(df_train_test))*100\n",
    "missing_data_ratio = missing_data_ratio.drop(missing_data_ratio[missing_data_ratio==0].index).sort_values(ascending=False)[:30]\n",
    "missing_data_ratio.head(30)"
   ]
  },
  {
   "cell_type": "code",
   "execution_count": 17,
   "id": "c6061383",
   "metadata": {
    "execution": {
     "iopub.execute_input": "2022-01-29T15:24:13.294159Z",
     "iopub.status.busy": "2022-01-29T15:24:13.293503Z",
     "iopub.status.idle": "2022-01-29T15:24:13.302339Z",
     "shell.execute_reply": "2022-01-29T15:24:13.302832Z",
     "shell.execute_reply.started": "2022-01-29T15:23:41.226019Z"
    },
    "papermill": {
     "duration": 0.051811,
     "end_time": "2022-01-29T15:24:13.303000",
     "exception": false,
     "start_time": "2022-01-29T15:24:13.251189",
     "status": "completed"
    },
    "tags": []
   },
   "outputs": [],
   "source": [
    "# filling missing values --> as per data description 'NA' defines, that perticuler feature is not present\n",
    "## like --> for PoolQC 'NA' means \"No Pool\" / same for FireplaceQu 'NA' means \"No fireplace\" etc.\n",
    "df_train_test['PoolQC'] = df_train_test['PoolQC'].fillna(\"None\")\n",
    "df_train_test['MiscFeature'] = df_train_test['MiscFeature'].fillna(\"None\")\n",
    "df_train_test['Alley'] = df_train_test['Alley'].fillna(\"None\")\n",
    "df_train_test['Fence'] = df_train_test['Fence'].fillna(\"None\")\n",
    "df_train_test['FireplaceQu'] = df_train_test['FireplaceQu'].fillna(\"None\")"
   ]
  },
  {
   "cell_type": "code",
   "execution_count": 18,
   "id": "ca9fe43d",
   "metadata": {
    "execution": {
     "iopub.execute_input": "2022-01-29T15:24:13.385466Z",
     "iopub.status.busy": "2022-01-29T15:24:13.384837Z",
     "iopub.status.idle": "2022-01-29T15:24:13.392240Z",
     "shell.execute_reply": "2022-01-29T15:24:13.392784Z",
     "shell.execute_reply.started": "2022-01-29T15:23:41.238042Z"
    },
    "papermill": {
     "duration": 0.050223,
     "end_time": "2022-01-29T15:24:13.392955",
     "exception": false,
     "start_time": "2022-01-29T15:24:13.342732",
     "status": "completed"
    },
    "tags": []
   },
   "outputs": [],
   "source": [
    "for g in ('GarageType', 'GarageFinish', 'GarageQual', 'GarageCond'):\n",
    "    df_train_test[g] = df_train_test[g].fillna('None')"
   ]
  },
  {
   "cell_type": "code",
   "execution_count": 19,
   "id": "514154f6",
   "metadata": {
    "execution": {
     "iopub.execute_input": "2022-01-29T15:24:13.474906Z",
     "iopub.status.busy": "2022-01-29T15:24:13.474310Z",
     "iopub.status.idle": "2022-01-29T15:24:13.478771Z",
     "shell.execute_reply": "2022-01-29T15:24:13.479362Z",
     "shell.execute_reply.started": "2022-01-29T15:23:41.249868Z"
    },
    "papermill": {
     "duration": 0.046971,
     "end_time": "2022-01-29T15:24:13.479520",
     "exception": false,
     "start_time": "2022-01-29T15:24:13.432549",
     "status": "completed"
    },
    "tags": []
   },
   "outputs": [],
   "source": [
    "# Replacing missing data with 0. Since No garage so, no cars in such garage.\n",
    "for g in ('GarageYrBlt', 'GarageArea', 'GarageCars'):\n",
    "    df_train_test[g] = df_train_test[g].fillna(0)"
   ]
  },
  {
   "cell_type": "code",
   "execution_count": 20,
   "id": "1a6e9793",
   "metadata": {
    "execution": {
     "iopub.execute_input": "2022-01-29T15:24:13.561343Z",
     "iopub.status.busy": "2022-01-29T15:24:13.560754Z",
     "iopub.status.idle": "2022-01-29T15:24:13.721948Z",
     "shell.execute_reply": "2022-01-29T15:24:13.721429Z",
     "shell.execute_reply.started": "2022-01-29T15:23:41.262374Z"
    },
    "papermill": {
     "duration": 0.203088,
     "end_time": "2022-01-29T15:24:13.722080",
     "exception": false,
     "start_time": "2022-01-29T15:24:13.518992",
     "status": "completed"
    },
    "tags": []
   },
   "outputs": [
    {
     "data": {
      "text/plain": [
       "<AxesSubplot:xlabel='LotFrontage'>"
      ]
     },
     "execution_count": 20,
     "metadata": {},
     "output_type": "execute_result"
    },
    {
     "data": {
      "image/png": "[encoded data removed]",
      "text/plain": [
       "<Figure size 432x288 with 1 Axes>"
      ]
     },
     "metadata": {
      "needs_background": "light"
     },
     "output_type": "display_data"
    }
   ],
   "source": [
    "sns.boxplot(df_train_test['LotFrontage'])"
   ]
  },
  {
   "cell_type": "code",
   "execution_count": 21,
   "id": "03935322",
   "metadata": {
    "execution": {
     "iopub.execute_input": "2022-01-29T15:24:13.807265Z",
     "iopub.status.busy": "2022-01-29T15:24:13.806637Z",
     "iopub.status.idle": "2022-01-29T15:24:13.813763Z",
     "shell.execute_reply": "2022-01-29T15:24:13.814363Z",
     "shell.execute_reply.started": "2022-01-29T15:23:41.432044Z"
    },
    "papermill": {
     "duration": 0.051539,
     "end_time": "2022-01-29T15:24:13.814525",
     "exception": false,
     "start_time": "2022-01-29T15:24:13.762986",
     "status": "completed"
    },
    "tags": []
   },
   "outputs": [
    {
     "data": {
      "text/plain": [
       "NAmes      443\n",
       "CollgCr    267\n",
       "OldTown    239\n",
       "Edwards    194\n",
       "Somerst    182\n",
       "NridgHt    166\n",
       "Gilbert    165\n",
       "Sawyer     151\n",
       "NWAmes     131\n",
       "SawyerW    125\n",
       "Mitchel    114\n",
       "BrkSide    108\n",
       "Crawfor    103\n",
       "IDOTRR      93\n",
       "Timber      72\n",
       "NoRidge     71\n",
       "StoneBr     51\n",
       "SWISU       48\n",
       "ClearCr     44\n",
       "MeadowV     37\n",
       "BrDale      30\n",
       "Blmngtn     28\n",
       "Veenker     24\n",
       "NPkVill     23\n",
       "Blueste     10\n",
       "Name: Neighborhood, dtype: int64"
      ]
     },
     "execution_count": 21,
     "metadata": {},
     "output_type": "execute_result"
    }
   ],
   "source": [
    "df_train_test[\"Neighborhood\"].value_counts()"
   ]
  },
  {
   "cell_type": "markdown",
   "id": "635dea05",
   "metadata": {
    "papermill": {
     "duration": 0.040767,
     "end_time": "2022-01-29T15:24:13.896113",
     "exception": false,
     "start_time": "2022-01-29T15:24:13.855346",
     "status": "completed"
    },
    "tags": []
   },
   "source": [
    "**Note:** (LotFrontage)---> Area of each street connected to the house property most likely have a similar area to other houses in its neighborhood."
   ]
  },
  {
   "cell_type": "code",
   "execution_count": 22,
   "id": "d76920b9",
   "metadata": {
    "execution": {
     "iopub.execute_input": "2022-01-29T15:24:13.984084Z",
     "iopub.status.busy": "2022-01-29T15:24:13.983456Z",
     "iopub.status.idle": "2022-01-29T15:24:14.000496Z",
     "shell.execute_reply": "2022-01-29T15:24:13.999837Z",
     "shell.execute_reply.started": "2022-01-29T15:23:41.441686Z"
    },
    "papermill": {
     "duration": 0.062567,
     "end_time": "2022-01-29T15:24:14.000647",
     "exception": false,
     "start_time": "2022-01-29T15:24:13.938080",
     "status": "completed"
    },
    "tags": []
   },
   "outputs": [],
   "source": [
    "# As per above note, we can fill in missing values by the median LotFrontage of the neighborhood\n",
    "df_train_test[\"LotFrontage\"] = df_train_test.groupby(\"Neighborhood\")[\"LotFrontage\"].transform(lambda l: l.fillna(l.median()))"
   ]
  },
  {
   "cell_type": "code",
   "execution_count": 23,
   "id": "f334cace",
   "metadata": {
    "execution": {
     "iopub.execute_input": "2022-01-29T15:24:14.092773Z",
     "iopub.status.busy": "2022-01-29T15:24:14.091982Z",
     "iopub.status.idle": "2022-01-29T15:24:14.095689Z",
     "shell.execute_reply": "2022-01-29T15:24:14.095132Z",
     "shell.execute_reply.started": "2022-01-29T15:23:41.463377Z"
    },
    "papermill": {
     "duration": 0.053173,
     "end_time": "2022-01-29T15:24:14.095826",
     "exception": false,
     "start_time": "2022-01-29T15:24:14.042653",
     "status": "completed"
    },
    "tags": []
   },
   "outputs": [
    {
     "data": {
      "text/plain": [
       "None    1420\n",
       "Gd       744\n",
       "TA       592\n",
       "Fa        74\n",
       "Po        46\n",
       "Ex        43\n",
       "Name: FireplaceQu, dtype: int64"
      ]
     },
     "execution_count": 23,
     "metadata": {},
     "output_type": "execute_result"
    }
   ],
   "source": [
    "df_train_test[\"FireplaceQu\"].value_counts()"
   ]
  },
  {
   "cell_type": "code",
   "execution_count": 24,
   "id": "653db90a",
   "metadata": {
    "execution": {
     "iopub.execute_input": "2022-01-29T15:24:14.184762Z",
     "iopub.status.busy": "2022-01-29T15:24:14.184133Z",
     "iopub.status.idle": "2022-01-29T15:24:14.189810Z",
     "shell.execute_reply": "2022-01-29T15:24:14.190315Z",
     "shell.execute_reply.started": "2022-01-29T15:23:41.471799Z"
    },
    "papermill": {
     "duration": 0.052315,
     "end_time": "2022-01-29T15:24:14.190474",
     "exception": false,
     "start_time": "2022-01-29T15:24:14.138159",
     "status": "completed"
    },
    "tags": []
   },
   "outputs": [],
   "source": [
    "for i in ('BsmtFinSF1', 'BsmtFinSF2', 'BsmtUnfSF','TotalBsmtSF', 'BsmtFullBath', 'BsmtHalfBath'):\n",
    "    df_train_test[i] = df_train_test[i].fillna(0)"
   ]
  },
  {
   "cell_type": "code",
   "execution_count": 25,
   "id": "160e6013",
   "metadata": {
    "execution": {
     "iopub.execute_input": "2022-01-29T15:24:14.276468Z",
     "iopub.status.busy": "2022-01-29T15:24:14.275843Z",
     "iopub.status.idle": "2022-01-29T15:24:14.283506Z",
     "shell.execute_reply": "2022-01-29T15:24:14.283997Z",
     "shell.execute_reply.started": "2022-01-29T15:23:41.487445Z"
    },
    "papermill": {
     "duration": 0.052402,
     "end_time": "2022-01-29T15:24:14.284179",
     "exception": false,
     "start_time": "2022-01-29T15:24:14.231777",
     "status": "completed"
    },
    "tags": []
   },
   "outputs": [],
   "source": [
    "for b in ('BsmtQual', 'BsmtCond', 'BsmtExposure', 'BsmtFinType1', 'BsmtFinType2'):\n",
    "    df_train_test[b] = df_train_test[b].fillna('None')"
   ]
  },
  {
   "cell_type": "code",
   "execution_count": 26,
   "id": "377f7a7e",
   "metadata": {
    "execution": {
     "iopub.execute_input": "2022-01-29T15:24:14.370731Z",
     "iopub.status.busy": "2022-01-29T15:24:14.370056Z",
     "iopub.status.idle": "2022-01-29T15:24:14.375175Z",
     "shell.execute_reply": "2022-01-29T15:24:14.375710Z",
     "shell.execute_reply.started": "2022-01-29T15:23:41.498411Z"
    },
    "papermill": {
     "duration": 0.050103,
     "end_time": "2022-01-29T15:24:14.375870",
     "exception": false,
     "start_time": "2022-01-29T15:24:14.325767",
     "status": "completed"
    },
    "tags": []
   },
   "outputs": [],
   "source": [
    "#MasVnrArea and MasVnrType : NA most likely means no masonry veneer for these houses. We can fill 0 for the area and None for the type.\n",
    "df_train_test[\"MasVnrType\"] = df_train_test[\"MasVnrType\"].fillna(\"None\")\n",
    "df_train_test[\"MasVnrArea\"] = df_train_test[\"MasVnrArea\"].fillna(0)"
   ]
  },
  {
   "cell_type": "code",
   "execution_count": 27,
   "id": "f3c16163",
   "metadata": {
    "execution": {
     "iopub.execute_input": "2022-01-29T15:24:14.461804Z",
     "iopub.status.busy": "2022-01-29T15:24:14.461193Z",
     "iopub.status.idle": "2022-01-29T15:24:14.467512Z",
     "shell.execute_reply": "2022-01-29T15:24:14.468081Z",
     "shell.execute_reply.started": "2022-01-29T15:23:41.508588Z"
    },
    "papermill": {
     "duration": 0.051196,
     "end_time": "2022-01-29T15:24:14.468260",
     "exception": false,
     "start_time": "2022-01-29T15:24:14.417064",
     "status": "completed"
    },
    "tags": []
   },
   "outputs": [
    {
     "data": {
      "text/plain": [
       "RL         2265\n",
       "RM          460\n",
       "FV          139\n",
       "RH           26\n",
       "C (all)      25\n",
       "Name: MSZoning, dtype: int64"
      ]
     },
     "execution_count": 27,
     "metadata": {},
     "output_type": "execute_result"
    }
   ],
   "source": [
    "df_train_test['MSZoning'].value_counts()"
   ]
  },
  {
   "cell_type": "code",
   "execution_count": 28,
   "id": "e602429a",
   "metadata": {
    "execution": {
     "iopub.execute_input": "2022-01-29T15:24:14.554648Z",
     "iopub.status.busy": "2022-01-29T15:24:14.554019Z",
     "iopub.status.idle": "2022-01-29T15:24:14.559502Z",
     "shell.execute_reply": "2022-01-29T15:24:14.559975Z",
     "shell.execute_reply.started": "2022-01-29T15:23:41.522608Z"
    },
    "papermill": {
     "duration": 0.050276,
     "end_time": "2022-01-29T15:24:14.560126",
     "exception": false,
     "start_time": "2022-01-29T15:24:14.509850",
     "status": "completed"
    },
    "tags": []
   },
   "outputs": [],
   "source": [
    "#MSZoning (The general zoning classification) : 'RL' is by far the most common value, so we can consider imputing the missing values with 'RL'\n",
    "df_train_test['MSZoning'] = df_train_test['MSZoning'].fillna(df_train_test['MSZoning'].mode()[0])"
   ]
  },
  {
   "cell_type": "code",
   "execution_count": 29,
   "id": "074b336b",
   "metadata": {
    "execution": {
     "iopub.execute_input": "2022-01-29T15:24:14.646710Z",
     "iopub.status.busy": "2022-01-29T15:24:14.646109Z",
     "iopub.status.idle": "2022-01-29T15:24:14.652450Z",
     "shell.execute_reply": "2022-01-29T15:24:14.652995Z",
     "shell.execute_reply.started": "2022-01-29T15:23:41.536076Z"
    },
    "papermill": {
     "duration": 0.051465,
     "end_time": "2022-01-29T15:24:14.653163",
     "exception": false,
     "start_time": "2022-01-29T15:24:14.601698",
     "status": "completed"
    },
    "tags": []
   },
   "outputs": [
    {
     "data": {
      "text/plain": [
       "Typ     2717\n",
       "Min2      70\n",
       "Min1      65\n",
       "Mod       35\n",
       "Maj1      19\n",
       "Maj2       9\n",
       "Sev        2\n",
       "Name: Functional, dtype: int64"
      ]
     },
     "execution_count": 29,
     "metadata": {},
     "output_type": "execute_result"
    }
   ],
   "source": [
    "df_train_test['Functional'].value_counts()"
   ]
  },
  {
   "cell_type": "code",
   "execution_count": 30,
   "id": "9fc9d669",
   "metadata": {
    "execution": {
     "iopub.execute_input": "2022-01-29T15:24:14.740619Z",
     "iopub.status.busy": "2022-01-29T15:24:14.739977Z",
     "iopub.status.idle": "2022-01-29T15:24:14.744501Z",
     "shell.execute_reply": "2022-01-29T15:24:14.745002Z",
     "shell.execute_reply.started": "2022-01-29T15:23:41.550014Z"
    },
    "papermill": {
     "duration": 0.049835,
     "end_time": "2022-01-29T15:24:14.745165",
     "exception": false,
     "start_time": "2022-01-29T15:24:14.695330",
     "status": "completed"
    },
    "tags": []
   },
   "outputs": [],
   "source": [
    "df_train_test[\"Functional\"] = df_train_test[\"Functional\"].fillna(\"Typ\")"
   ]
  },
  {
   "cell_type": "code",
   "execution_count": 31,
   "id": "7d903db6",
   "metadata": {
    "execution": {
     "iopub.execute_input": "2022-01-29T15:24:14.832228Z",
     "iopub.status.busy": "2022-01-29T15:24:14.831601Z",
     "iopub.status.idle": "2022-01-29T15:24:14.839000Z",
     "shell.execute_reply": "2022-01-29T15:24:14.838513Z",
     "shell.execute_reply.started": "2022-01-29T15:23:41.562540Z"
    },
    "papermill": {
     "duration": 0.052096,
     "end_time": "2022-01-29T15:24:14.839158",
     "exception": false,
     "start_time": "2022-01-29T15:24:14.787062",
     "status": "completed"
    },
    "tags": []
   },
   "outputs": [
    {
     "data": {
      "text/plain": [
       "SBrkr    2671\n",
       "FuseA     188\n",
       "FuseF      50\n",
       "FuseP       8\n",
       "Mix         1\n",
       "Name: Electrical, dtype: int64"
      ]
     },
     "execution_count": 31,
     "metadata": {},
     "output_type": "execute_result"
    }
   ],
   "source": [
    "df_train_test['Electrical'].value_counts()"
   ]
  },
  {
   "cell_type": "code",
   "execution_count": 32,
   "id": "254a1d34",
   "metadata": {
    "execution": {
     "iopub.execute_input": "2022-01-29T15:24:14.931403Z",
     "iopub.status.busy": "2022-01-29T15:24:14.930773Z",
     "iopub.status.idle": "2022-01-29T15:24:14.933401Z",
     "shell.execute_reply": "2022-01-29T15:24:14.933908Z",
     "shell.execute_reply.started": "2022-01-29T15:23:41.575792Z"
    },
    "papermill": {
     "duration": 0.05202,
     "end_time": "2022-01-29T15:24:14.934074",
     "exception": false,
     "start_time": "2022-01-29T15:24:14.882054",
     "status": "completed"
    },
    "tags": []
   },
   "outputs": [],
   "source": [
    "df_train_test['Electrical'] = df_train_test['Electrical'].fillna(df_train_test['Electrical'].mode()[0])"
   ]
  },
  {
   "cell_type": "code",
   "execution_count": 33,
   "id": "5bfb3886",
   "metadata": {
    "execution": {
     "iopub.execute_input": "2022-01-29T15:24:15.022227Z",
     "iopub.status.busy": "2022-01-29T15:24:15.021618Z",
     "iopub.status.idle": "2022-01-29T15:24:15.028344Z",
     "shell.execute_reply": "2022-01-29T15:24:15.028900Z",
     "shell.execute_reply.started": "2022-01-29T15:23:41.585784Z"
    },
    "papermill": {
     "duration": 0.052493,
     "end_time": "2022-01-29T15:24:15.029059",
     "exception": false,
     "start_time": "2022-01-29T15:24:14.976566",
     "status": "completed"
    },
    "tags": []
   },
   "outputs": [
    {
     "data": {
      "text/plain": [
       "TA    1492\n",
       "Gd    1151\n",
       "Ex     205\n",
       "Fa      70\n",
       "Name: KitchenQual, dtype: int64"
      ]
     },
     "execution_count": 33,
     "metadata": {},
     "output_type": "execute_result"
    }
   ],
   "source": [
    "df_train_test['KitchenQual'].value_counts()"
   ]
  },
  {
   "cell_type": "code",
   "execution_count": 34,
   "id": "ff8e634f",
   "metadata": {
    "execution": {
     "iopub.execute_input": "2022-01-29T15:24:15.122129Z",
     "iopub.status.busy": "2022-01-29T15:24:15.121517Z",
     "iopub.status.idle": "2022-01-29T15:24:15.124434Z",
     "shell.execute_reply": "2022-01-29T15:24:15.123865Z",
     "shell.execute_reply.started": "2022-01-29T15:23:41.599439Z"
    },
    "papermill": {
     "duration": 0.052969,
     "end_time": "2022-01-29T15:24:15.124577",
     "exception": false,
     "start_time": "2022-01-29T15:24:15.071608",
     "status": "completed"
    },
    "tags": []
   },
   "outputs": [],
   "source": [
    "df_train_test['KitchenQual'] = df_train_test['KitchenQual'].fillna(df_train_test['KitchenQual'].mode()[0])"
   ]
  },
  {
   "cell_type": "code",
   "execution_count": 35,
   "id": "afc3d513",
   "metadata": {
    "execution": {
     "iopub.execute_input": "2022-01-29T15:24:15.218323Z",
     "iopub.status.busy": "2022-01-29T15:24:15.217699Z",
     "iopub.status.idle": "2022-01-29T15:24:15.220962Z",
     "shell.execute_reply": "2022-01-29T15:24:15.221489Z",
     "shell.execute_reply.started": "2022-01-29T15:23:41.607985Z"
    },
    "papermill": {
     "duration": 0.053489,
     "end_time": "2022-01-29T15:24:15.221653",
     "exception": false,
     "start_time": "2022-01-29T15:24:15.168164",
     "status": "completed"
    },
    "tags": []
   },
   "outputs": [
    {
     "data": {
      "text/plain": [
       "VinylSd    1025\n",
       "MetalSd     450\n",
       "HdBoard     442\n",
       "Wd Sdng     411\n",
       "Plywood     221\n",
       "CemntBd     126\n",
       "BrkFace      87\n",
       "WdShing      56\n",
       "AsbShng      44\n",
       "Stucco       43\n",
       "BrkComm       6\n",
       "AsphShn       2\n",
       "Stone         2\n",
       "CBlock        2\n",
       "ImStucc       1\n",
       "Name: Exterior1st, dtype: int64"
      ]
     },
     "execution_count": 35,
     "metadata": {},
     "output_type": "execute_result"
    }
   ],
   "source": [
    "df_train_test['Exterior1st'].value_counts()"
   ]
  }
 ],
 "metadata": {
  "kernelspec": {
   "display_name": "Python 3",
   "language": "python",
   "name": "python3"
  },
  "language_info": {
   "codemirror_mode": {
    "name": "ipython",
    "version": 3
   },
   "file_extension": ".py",
   "mimetype": "text/x-python",
   "name": "python",
   "nbconvert_exporter": "python",
   "pygments_lexer": "ipython3",
   "version": "3.7.12"
  },
  "papermill": {
   "default_parameters": {},
   "duration": 16.457138,
   "end_time": "2022-01-29T15:24:15.974634",
   "environment_variables": {},
   "exception": null,
   "input_path": "__notebook__.ipynb",
   "output_path": "__notebook__.ipynb",
   "parameters": {},
   "start_time": "2022-01-29T15:23:59.517496",
   "version": "2.3.3"
  }
 },
 "nbformat": 4,
 "nbformat_minor": 5
}
